{
  "cells": [
    {
      "cell_type": "markdown",
      "metadata": {
        "id": "b0YdyupekqGd"
      },
      "source": [
        "**Random Forest**\n",
        "\n"
      ]
    },
    {
      "cell_type": "code",
      "execution_count": null,
      "metadata": {
        "id": "n-u5VKBgVfWd"
      },
      "outputs": [],
      "source": [
        "install.packages('dplyr')\n",
        "install.packages('ggplot2')\n",
        "install.packages('corrplot')\n",
        "install.packages('GGally')\n",
        "install.packages('car')\n",
        "install.packages('MASS')\n",
        "install.packages('stringr')\n",
        "install.packages('gridExtra')\n",
        "install.packages('rpart')\n",
        "install.packages('rattle')\n",
        "install.packages('randomForest')\n",
        "install.packages('vip')\n",
        "install.packages('mlbench')\n",
        "install.packages('caret')\n",
        "install.packages('ROCR')\n",
        "install.packages('glmnet')\n",
        "install.packages('ISLR')\n",
        "install.packages('MKclass')\n",
        "install.packages('forcats')"
      ]
    },
    {
      "cell_type": "code",
      "execution_count": null,
      "metadata": {
        "id": "HrBD6DSWVgvS"
      },
      "outputs": [],
      "source": [
        "library(dplyr)\n",
        "library(ggplot2)\n",
        "library(corrplot)\n",
        "library(GGally)\n",
        "library(car)\n",
        "library(MASS)\n",
        "library(stringr)\n",
        "library(gridExtra)\n",
        "library(rpart)\n",
        "library(rattle)\n",
        "library(randomForest)\n",
        "library(vip)\n",
        "library(mlbench)\n",
        "library(caret)\n",
        "library(ROCR)\n",
        "library(glmnet)\n",
        "library(ISLR)\n",
        "library(MKclass)\n",
        "library(forcats)"
      ]
    },
    {
      "cell_type": "code",
      "execution_count": null,
      "metadata": {
        "colab": {
          "base_uri": "https://localhost:8080/",
          "height": 34
        },
        "id": "XWHNStoGcY-s",
        "outputId": "b615b662-de22-4ec4-caae-f55885ee67e7"
      },
      "outputs": [
        {
          "output_type": "display_data",
          "data": {
            "text/html": [
              "<style>\n",
              ".list-inline {list-style: none; margin:0; padding: 0}\n",
              ".list-inline>li {display: inline-block}\n",
              ".list-inline>li:not(:last-child)::after {content: \"\\00b7\"; padding: 0 .5ex}\n",
              "</style>\n",
              "<ol class=list-inline><li>114</li><li>40</li></ol>\n"
            ],
            "text/markdown": "1. 114\n2. 40\n\n\n",
            "text/latex": "\\begin{enumerate*}\n\\item 114\n\\item 40\n\\end{enumerate*}\n",
            "text/plain": [
              "[1] 114  40"
            ]
          },
          "metadata": {}
        }
      ],
      "source": [
        "# Upload the database\n",
        "df <- read.csv(\"base_preproc_4.csv\", header=TRUE, sep = ';', encoding = 'latin1')\n",
        "dim(df)"
      ]
    },
    {
      "cell_type": "markdown",
      "metadata": {
        "id": "OfHYw677xinu"
      },
      "source": [
        "## Data preprocessing\n"
      ]
    },
    {
      "cell_type": "code",
      "execution_count": null,
      "metadata": {
        "id": "QSczn1_63XAz"
      },
      "outputs": [],
      "source": [
        "# feature names\n",
        "colnames(df) <- c(\"año_de_presentacion\",\"expediente\",\"caratula\",\"fecha_de_resolucion\",\"cita_de_fallos\",\n",
        "  \"tipo_de_actor_1\", \"tipo_de_actor_2\", \"tipo_de_actor_3\", \"vecinos_de_otra_provincia\", \"corte_causal_vecindad\",\n",
        "  \"tipo_de_demandado_1\", \"tipo_de_demandado_2\", \"tipo_de_demandado_3\", \"tipo_de_demandado_4\", \"cantidad_de_provincias\",\n",
        "  \"citacion_de_terceros\", \"provincias_citadas_terceros_tribunal\", \"tema\", \"recurso\", \"posterga_decision\",\"decision_de_la_corte\", \"argumento\",\n",
        "  \"involucra_recurso_interjur\", \"prueba_daño_interjur\", \"prueba_presentada\", \"dicta_cautelar\", \"audiencia_publica\",\n",
        "  \"conformacion_mayoria\", \"disidencia_voto\", \"disidencia_sobre_total\",\"cantidad_jueces_votan\", \"jueces_no_votaron\", \"presidente\", \"composicion\",\n",
        "  \"jurisprudencia_citada\", \"decision_procurador\", \"involucra_recurso_interjur_procurador\", \"remision_al_procurador\",\n",
        "  \"secretaria\", \"comentarios\")"
      ]
    },
    {
      "cell_type": "code",
      "execution_count": null,
      "metadata": {
        "id": "BoomFmiTECSN"
      },
      "outputs": [],
      "source": [
        "# de fecha de resolución tomamos solo el año\n",
        "df$fecha_de_resolucion <- as.integer(str_sub(df$fecha_de_resolucion,-4,-1))\n",
        "\n",
        "# y creamos la variable tiempo de resolución como la diferencia entre ambos:\n",
        "df$tiempo_de_resolucion <- df$fecha_de_resolucion - df$año_de_presentacion\n",
        "\n",
        "# dummy si el caso tiene cita de fallos o no\n",
        "df$cita_de_fallos = as.factor(ifelse(df$cita_de_fallos=='No tiene','No tiene','Tiene'))\n",
        "#df$cita_de_fallos = ifelse(df$cita_de_fallos == 'No tiene', NA, df$cita_de_fallos)\n",
        "\n",
        "# cantidad de actores\n",
        "df$cantidad_de_actores_1 <- ifelse(df$tipo_de_actor_1 == \"NA\",0,1)\n",
        "df$cantidad_de_actores_2 <- ifelse(df$tipo_de_actor_2==\"NA\",0,1)\n",
        "df$cantidad_de_actores_3 <- ifelse(df$tipo_de_actor_3==\"NA\",0,1)\n",
        "\n",
        "df$cantidad_de_actores <- rowSums(cbind(df$cantidad_de_actores_1, df$cantidad_de_actores_2, df$cantidad_de_actores_3),na.rm=TRUE)\n",
        "\n",
        "df <- df[,!names(df) %in% c(\"cantidad_de_actores_1\", \"cantidad_de_actores_2\", \"cantidad_de_actores_3\")]\n",
        "\n",
        "# cantidad de demandados\n",
        "df$cantidad_de_demandados_1 <- ifelse(df$tipo_de_demandado_1== \"NA\",0,1)\n",
        "df$cantidad_de_demandados_2 <- ifelse(df$tipo_de_demandado_2==\"NA\",0,1)\n",
        "df$cantidad_de_demandados_3 <- ifelse(df$tipo_de_demandado_3==\"NA\",0,1)\n",
        "df$cantidad_de_demandados_4 <- ifelse(df$tipo_de_demandado_4==\"NA\",0,1)\n",
        "\n",
        "df$cantidad_de_demandados <- rowSums(cbind(df$cantidad_de_demandados_1,\n",
        "  df$cantidad_de_demandados_2,\n",
        "  df$cantidad_de_demandados_3,\n",
        "  df$cantidad_de_demandados_4),\n",
        "  na.rm=TRUE)\n",
        "\n",
        "df <- df[,!names(df) %in% c(\"cantidad_de_demandados_1\", \"cantidad_de_demandados_2\", \"cantidad_de_demandados_3\",\"cantidad_de_demandados_4\")]\n",
        "\n",
        "# cantidad de provincias: pasamos NA a cero:\n",
        "#df$cantidad_de_provincias = ifelse(df$cantidad_de_provincias==\"NA\",0,df$cantidad_de_provincias)\n",
        "#df$cantidad_de_provincias = as.factor(df$cantidad_de_provincias)\n",
        "\n",
        "df = df %>% mutate(cantidad_de_provincias = case_when(cantidad_de_provincias > 0 ~ cantidad_de_provincias, TRUE ~ 0))\n",
        "\n",
        "# variables para los actores\n",
        "\n",
        "# empresa\n",
        "df$actor_empresa <- ifelse(tolower(df$tipo_de_actor_1) == \"empresa\" |\n",
        "  tolower(df$tipo_de_actor_2) == \"empresa\" | tolower(df$tipo_de_actor_3) == \"empresa\",1,0)\n",
        "\n",
        "df$actor_empresa[is.na(df$actor_empresa)] <- 0\n",
        "\n",
        "# ente nacional / internacional\n",
        "df$actor_ente_nac <- ifelse(tolower(df$tipo_de_actor_1) == \"ente nacional/internacional\" |\n",
        "  tolower(df$tipo_de_actor_2) == \"ente nacional/internacional\" | tolower(df$tipo_de_actor_3) == \"ente nacional/internacional\",1,0)\n",
        "\n",
        "df$actor_ente_nac[is.na(df$actor_ente_nac)] <- 0\n",
        "\n",
        "# ente provincial\n",
        "df$actor_ente_prov <- ifelse(tolower(df$tipo_de_actor_1) == \"ente provincial\" |\n",
        "  tolower(df$tipo_de_actor_2) == \"ente provincial\" | tolower(df$tipo_de_actor_3) == \"ente provincial\",1,0)\n",
        "\n",
        "df$actor_ente_prov[is.na(df$actor_ente_prov)] <- 0\n",
        "\n",
        "# estado nacional\n",
        "df$actor_estado_nac <- ifelse(tolower(df$tipo_de_actor_1) == \"estado nacional\" |\n",
        "  tolower(df$tipo_de_actor_2) == \"estado nacional\" | tolower(df$tipo_de_actor_3) == \"estado nacional\",1,0)\n",
        "\n",
        "df$actor_estado_nac[is.na(df$actor_estado_nac)] <- 0\n",
        "\n",
        "# estado provincial\n",
        "df$actor_estado_prov <- ifelse(tolower(df$tipo_de_actor_1) == \"estado provincial\" |\n",
        "  tolower(df$tipo_de_actor_2) == \"estado provincial\" | tolower(df$tipo_de_actor_3) == \"estado provincial\",1,0)\n",
        "\n",
        "df$actor_estado_prov[is.na(df$actor_estado_prov)] <- 0\n",
        "\n",
        "# ministerio público fiscal de la nación\n",
        "df$actor_mpfn <- ifelse(tolower(df$tipo_de_actor_1) == \"ministerio público fiscal de la nación\" |\n",
        "  tolower(df$tipo_de_actor_2) == \"ministerio público fiscal de la nación\" | tolower(df$tipo_de_actor_3) == \"ministerio público fiscal de la nación\",1,0)\n",
        "\n",
        "df$actor_mpfn[is.na(df$actor_mpfn)] <- 0\n",
        "\n",
        "# municipio\n",
        "df$actor_municipio <- ifelse(tolower(df$tipo_de_actor_1) == \"municipio\" |\n",
        "  tolower(df$tipo_de_actor_2) == \"municipio\" | tolower(df$tipo_de_actor_3) == \"municipio\",1,0)\n",
        "\n",
        "df$actor_municipio[is.na(df$actor_municipio)] <- 0\n",
        "\n",
        "# ONG\n",
        "df$actor_ong <- ifelse(tolower(df$tipo_de_actor_1) == \"ong\" |\n",
        "  tolower(df$tipo_de_actor_2) == \"ong\" | tolower(df$tipo_de_actor_3) == \"ong\",1,0)\n",
        "\n",
        "df$actor_ong[is.na(df$actor_ong)] <- 0\n",
        "\n",
        "# persona física\n",
        "df$actor_pers_fisica <- ifelse(tolower(df$tipo_de_actor_1) == \"persona física\" |\n",
        "  tolower(df$tipo_de_actor_2) == \"persona física\" | tolower(df$tipo_de_actor_3) == \"persona física\",1,0)\n",
        "\n",
        "df$actor_pers_fisica[is.na(df$actor_pers_fisica)] <- 0\n",
        "\n",
        "# pueblos originarios\n",
        "df$actor_pue_orig <- ifelse(tolower(df$tipo_de_actor_1) == \"pueblos originarios\" |\n",
        "  tolower(df$tipo_de_actor_2) == \"pueblos originarios\" | tolower(df$tipo_de_actor_3) == \"pueblos originarios\",1,0)\n",
        "\n",
        "df$actor_pue_orig[is.na(df$actor_pue_orig)] <- 0\n",
        "\n",
        "# variables para los demandados\n",
        "# ciudad autónoma de buenos aires\n",
        "df$demandado_caba <- ifelse(df$tipo_de_demandado_1 == \"Ciudad Autónoma de Buenos Aires\" |\n",
        "  df$tipo_de_demandado_2 == \"Ciudad Autónoma de Buenos Aires\" | df$tipo_de_demandado_3 == \"Ciudad Autónoma de Buenos Aires\" |\n",
        "  df$tipo_de_demandado_4 == 'Ciudad Autónoma de Buenos Aires',1,0)\n",
        "\n",
        "df$demandado_caba[is.na(df$demandado_caba)] <- 0\n",
        "\n",
        "# empresas\n",
        "df$demandado_empresa <- ifelse(df$tipo_de_demandado_1 == \"Empresa\" |\n",
        "  df$tipo_de_demandado_2 == \"Empresa\" | df$tipo_de_demandado_3 == \"Empresa\" |\n",
        "  df$tipo_de_demandado_4 == \"Empresa\",1,0)\n",
        "\n",
        "df$demandado_empresa[is.na(df$demandado_empresa)] <- 0\n",
        "\n",
        "# ente nacional\n",
        "df$demandado_ente_nac <- ifelse(df$tipo_de_demandado_1 == \"Ente nacional/internacional\" |\n",
        "  df$tipo_de_demandado_2 == \"Ente nacional/internacional\" | df$tipo_de_demandado_3 == \"Ente nacional/internacional\" |\n",
        "  df$tipo_de_demandado_4 == \"Ente nacional/internacional\",1,0)\n",
        "\n",
        "df$demandado_ente_nac[is.na(df$demandado_ente_nac)] <- 0\n",
        "\n",
        "# ente provincial\n",
        "df$demandado_ente_prov <- ifelse(df$tipo_de_demandado_1 == \"Ente provincial\" |\n",
        "  df$tipo_de_demandado_2 == \"Ente provincial\" | df$tipo_de_demandado_3 == \"Ente provincial\" |\n",
        "  df$tipo_de_demandado_4 == \"Ente provincial\",1,0)\n",
        "\n",
        "df$demandado_ente_prov[is.na(df$demandado_ente_prov)] <- 0\n",
        "\n",
        "# estado nacional\n",
        "df$demandado_estado_nac <- ifelse(df$tipo_de_demandado_1 == \"Estado Nacional\" |\n",
        "  df$tipo_de_demandado_2 == \"Estado Nacional\" | df$tipo_de_demandado_3 == \"Estado Nacional\" |\n",
        "  df$tipo_de_demandado_4 == \"Estado Nacional\",1,0)\n",
        "\n",
        "df$demandado_estado_nac[is.na(df$demandado_estado_nac)] <- 0\n",
        "\n",
        "# estado provincial\n",
        "df$demandado_estado_prov <- ifelse(df$tipo_de_demandado_1 == \"Estado Provincial\" |\n",
        "  df$tipo_de_demandado_2 == \"Estado Provincial\" | df$tipo_de_demandado_3 == \"Estado Provincial\" |\n",
        "  df$tipo_de_demandado_4 == \"Estado Provincial\",1,0)\n",
        "\n",
        "df$demandado_estado_prov[is.na(df$demandado_estado_prov)] <- 0\n",
        "\n",
        "# municipio\n",
        "df$demandado_municipio <- ifelse(df$tipo_de_demandado_1 == \"Municipio\" |\n",
        "  df$tipo_de_demandado_2 == \"Municipio\" | df$tipo_de_demandado_3 == \"Municipio\" |\n",
        "  df$tipo_de_demandado_4 == \"Municipio\",1,0)\n",
        "\n",
        "df$demandado_municipio[is.na(df$demandado_municipio)] <- 0\n",
        "\n",
        "# organismo interjurisdiccional\n",
        "df$demandado_actor_interjuris <- ifelse(df$tipo_de_demandado_1 == \"Organismo Interjurisdiccional\" |\n",
        "  df$tipo_de_demandado_2 == \"Organismo Interjurisdiccional\" | df$tipo_de_demandado_3 == \"Organismo Interjurisdiccional\" |\n",
        "  df$tipo_de_demandado_4 == \"Organismo Interjurisdiccional\",1,0)\n",
        "\n",
        "df$demandado_actor_interjuris[is.na(df$demandado_actor_interjuris)] <- 0\n",
        "\n",
        "# persona física\n",
        "df$demandado_pers_fisica <- ifelse(df$tipo_de_demandado_1 == \"Persona Física\" |\n",
        "  df$tipo_de_demandado_2 == \"Persona Física\" | df$tipo_de_demandado_3 == \"Persona Física\" |\n",
        "  df$tipo_de_demandado_4 == \"Persona Física\",1,0)\n",
        "\n",
        "df$demandado_pers_fisica[is.na(df$demandado_pers_fisica)] <- 0\n",
        "\n",
        "# empresa estatal\n",
        "df$demandado_empresa_estatal <- ifelse(df$tipo_de_demandado_1 == \"Empresa Estatal\" |\n",
        "  df$tipo_de_demandado_2 == \"Empresa Estatal\" | df$tipo_de_demandado_3 == \"Empresa Estatal\" |\n",
        "  df$tipo_de_demandado_4 == \"Empresa Estatal\",1,0)\n",
        "\n",
        "df$demandado_empresa_estatal[is.na(df$demandado_empresa_estatal)] <- 0\n",
        "\n",
        "# Variables anidadas:\n",
        "# vecinos de otra provincia:\n",
        "df = df %>%\n",
        "  mutate(vecinos_de_otra_provincia_1 = as.factor(case_when(tolower(vecinos_de_otra_provincia) == \"si\" ~ \"0\",\n",
        "                           vecinos_de_otra_provincia == \"No\" ~ \"1\",\n",
        "                           vecinos_de_otra_provincia == \"No dice\" ~ \"1\",\n",
        "                           TRUE ~ \"NA\")))\n",
        "\n",
        "df = df %>%\n",
        "  mutate(vecinos_de_otra_provincia_2 = as.factor(case_when(vecinos_de_otra_provincia == \"Si\" ~ \"0\",\n",
        "                           vecinos_de_otra_provincia == \"No\" ~ \"1\",\n",
        "                           vecinos_de_otra_provincia == \"No dice\" ~ \"0\",\n",
        "                           TRUE ~ \"NA\")))\n",
        "\n",
        "# citación de terceros\n",
        "df = df %>%\n",
        " mutate(citacion_de_terceros_1 = as.factor(case_when(tolower(citacion_de_terceros) == \"si\" ~ \"1\",\n",
        "                          tolower(citacion_de_terceros) == \"no\" ~ \"0\",\n",
        "                          tolower(citacion_de_terceros) == \"rechaza\" ~ \"1\"))) # si pidieron o no citar terceros\n",
        "\n",
        "df = df %>%\n",
        "  mutate(citacion_de_terceros_2 = as.factor(case_when(tolower(citacion_de_terceros) == \"si\" ~ \"0\",\n",
        "                           tolower(citacion_de_terceros) == \"rechaza\" ~ \"1\",\n",
        "                           TRUE ~ \"NA\")))\n",
        "\n",
        "# provincias citadas como tercero por el tribunal:\n",
        "df = df %>%\n",
        "  mutate(provincias_citadas_terceros_tribunal_2 = as.factor(case_when(tolower(citacion_de_terceros) == \"si\" ~ as.character(provincias_citadas_terceros_tribunal),\n",
        "  tolower(citacion_de_terceros) == \"no\" ~ \"NA\",\n",
        "  tolower(citacion_de_terceros) == \"rechaza\" ~ \"NA\")))\n",
        "\n",
        "# tema\n",
        "df$tema <- as.factor(df$tema)\n",
        "\n",
        "# involucra recurso interjurisdiccional según la corte\n",
        "df$involucra_recurso_interjur <- ifelse(df$involucra_recurso_interjur == \"Remite PGN: No\",\"No\", df$involucra_recurso_interjur)\n",
        "\n",
        "df = df %>%\n",
        "  mutate(involucra_recurso_interjur = as.factor(case_when(involucra_recurso_interjur == \"Si\" ~ \"1\",\n",
        "                           involucra_recurso_interjur == \"No\" ~ \"0\",\n",
        "                           involucra_recurso_interjur == \"No dice\" ~ \"NA\",\n",
        "                           TRUE ~ \"NA\")))\n",
        "# df = df %>%\n",
        "#   mutate(involucra_recurso_interjur_2 = as.factor(case_when(involucra_recurso_interjur == \"Si\" ~ \"0\",\n",
        "#                            involucra_recurso_interjur == \"No\" ~ \"1\",\n",
        "#                            involucra_recurso_interjur == \"No dice\" ~ \"0\",\n",
        "#                            TRUE ~ \"NA\")))\n",
        "\n",
        "df = df %>%\n",
        "  mutate(prueba_daño_interjur_2 = as.factor(case_when(prueba_daño_interjur == \"Argumenta que por la posición de la planta que vuelca los deshechos cloacales, el problemas es claramente interjurisdiccional\" ~ \"Si\",\n",
        "                           prueba_daño_interjur == \"Remite PGN\" ~ \"No\",\n",
        "                           prueba_daño_interjur == \"No\" ~ \"No\",\n",
        "                           prueba_daño_interjur == \"Si\" ~ \"Si\",\n",
        "                           prueba_daño_interjur == \"Insuficiente\" ~ \"Insuficiente\",\n",
        "                           prueba_daño_interjur == \"No dice\" ~ \"No dice\",\n",
        "                           TRUE ~ \"NA\")))\n",
        "\n",
        "# dicta cautelar: difiere que quede como NA\n",
        "df = df %>%\n",
        "  mutate(dicta_cautelar_2 = case_when(dicta_cautelar == \"Si\" ~ \"1\",\n",
        "                           dicta_cautelar == \"No\" ~ \"0\",\n",
        "                           dicta_cautelar == \"Difiere\" ~ \"NA\"))\n",
        "\n",
        "# audiencia pública: cambiamos a binaria\n",
        "df$audiencia_publica <- ifelse(tolower(df$audiencia_publica)=='si',1,0)\n",
        "\n",
        "# conformación de la mayoría\n",
        "df$conformacion_mayoria = as.factor(df$conformacion_mayoria)\n",
        "\n",
        "# de quién es la disidencia / voto:\n",
        "df = df %>%\n",
        "  mutate(disidencia_argibay = case_when((conformacion_mayoria == 'Disidencia' & grepl(\"Argibay\", disidencia_voto)) ~ 1, TRUE ~ 0))\n",
        "\n",
        "df = df %>%\n",
        "  mutate(disidencia_highton = case_when((conformacion_mayoria == 'Disidencia' & grepl(\"Highton\", disidencia_voto)) ~ 1, TRUE ~ 0))\n",
        "\n",
        "df = df %>%\n",
        "  mutate(disidencia_lorenzetti = case_when((conformacion_mayoria == 'Disidencia' & grepl(\"Lorenzetti\", disidencia_voto)) ~ 1, TRUE ~ 0))\n",
        "\n",
        "df = df %>%\n",
        "  mutate(voto_fayt = case_when((conformacion_mayoria == 'Voto' & grepl(\"Fayt\", disidencia_voto)) ~ 1, TRUE ~ 0))\n",
        "\n",
        "df = df %>%\n",
        "  mutate(voto_petracchi = case_when((conformacion_mayoria == 'Voto' & grepl(\"Petracchi\", disidencia_voto)) ~ 1, TRUE ~ 0))\n",
        "\n",
        "df = df %>%\n",
        "  mutate(voto_highton = case_when((conformacion_mayoria == 'Voto' & grepl(\"Highton\", disidencia_voto)) ~ 1, TRUE ~ 0))\n",
        "\n",
        "df = df %>%\n",
        "  mutate(voto_argibay = case_when((conformacion_mayoria == 'Voto' & grepl(\"Argibay\", disidencia_voto)) ~ 1, TRUE ~ 0))\n",
        "\n",
        "df = df %>%\n",
        "  mutate(voto_maqueda = case_when((conformacion_mayoria == 'Voto' & grepl(\"Maqueda\", disidencia_voto)) ~ 1, TRUE ~ 0))\n",
        "\n",
        "df = df %>%\n",
        "  mutate(voto_zaffaroni = case_when((conformacion_mayoria == 'Voto' & grepl(\"Zaffaroni\", disidencia_voto)) ~ 1, TRUE ~ 0))\n",
        "\n",
        "df = df %>%\n",
        "  mutate(voto_rosenkrantz = case_when((conformacion_mayoria == 'Voto' & grepl(\"Rosenkrantz\", disidencia_voto)) ~ 1, TRUE ~ 0))\n",
        "\n",
        "# quienes no votan:\n",
        "df = df %>% mutate(no_vota_argibay = case_when(grepl(\"argibay\", tolower(jueces_no_votaron)) ~ 1, TRUE ~ 0))\n",
        "df = df %>% mutate(no_vota_boggiano = case_when(grepl(\"boggiano\", tolower(jueces_no_votaron)) ~ 1, TRUE ~ 0))\n",
        "df = df %>% mutate(no_vota_bossert = case_when(grepl(\"bossert\", tolower(jueces_no_votaron)) ~ 1, TRUE ~ 0))\n",
        "df = df %>% mutate(no_vota_fayt = case_when(grepl(\"fayt\", tolower(jueces_no_votaron)) ~ 1, TRUE ~ 0))\n",
        "df = df %>% mutate(no_vota_highton = case_when(grepl(\"highton\", tolower(jueces_no_votaron)) ~ 1, TRUE ~ 0))\n",
        "df = df %>% mutate(no_vota_levene = case_when(grepl(\"levene\", tolower(jueces_no_votaron)) ~ 1, TRUE ~ 0))\n",
        "df = df %>% mutate(no_vota_lopez = case_when(grepl(\"lopez\", tolower(jueces_no_votaron)) ~ 1, TRUE ~ 0))\n",
        "df = df %>% mutate(no_vota_lorenzetti = case_when(grepl(\"lorenzetti\", tolower(jueces_no_votaron)) ~ 1, TRUE ~ 0))\n",
        "df = df %>% mutate(no_vota_maqueda = case_when(grepl(\"maqueda\", tolower(jueces_no_votaron)) ~ 1, TRUE ~ 0))\n",
        "df = df %>% mutate(no_vota_moline = case_when(grepl(\"moliné\", tolower(jueces_no_votaron)) ~ 1, TRUE ~ 0))\n",
        "df = df %>% mutate(no_vota_nazareno = case_when(grepl(\"nazareno\", tolower(jueces_no_votaron)) ~ 1, TRUE ~ 0))\n",
        "df = df %>% mutate(no_vota_petracchi = case_when(grepl(\"petracchi\", tolower(jueces_no_votaron)) ~ 1, TRUE ~ 0))\n",
        "df = df %>% mutate(no_vota_rosatti = case_when(grepl(\"rosatti\", tolower(jueces_no_votaron)) ~ 1, TRUE ~ 0))\n",
        "df = df %>% mutate(no_vota_rosenkrantz = case_when(grepl(\"rosenkrantz\", tolower(jueces_no_votaron)) ~ 1, TRUE ~ 0))\n",
        "df = df %>% mutate(no_vota_vazquez = case_when(grepl(\"vazquez\", tolower(jueces_no_votaron)) ~ 1, TRUE ~ 0))\n",
        "df = df %>% mutate(no_vota_zaffaroni = case_when(grepl(\"zaffaroni\", tolower(jueces_no_votaron)) ~ 1, TRUE ~ 0))\n",
        "\n",
        "df$presidente <- factor(df$presidente)\n",
        "\n",
        "# composición\n",
        "df = df %>%\n",
        "  mutate(composicion_cr1 = case_when(presidente == \"CR\" ~ \"1\",\n",
        "TRUE ~ \"NA\"))\n",
        "\n",
        "df = df %>%\n",
        "  mutate(composicion_emo1 = case_when(presidente == \"EMO\" ~ \"1\",\n",
        "TRUE ~ \"NA\"))\n",
        "\n",
        "df = df %>%\n",
        "  mutate(composicion_ep1 = case_when(presidente == \"EP\" & composicion == \"EP2\" ~ \"1\",\n",
        "  presidente == \"EP\" & composicion != \"EP2\" ~ \"0\",\n",
        "  TRUE ~ \"NA\"))\n",
        "\n",
        "df = df %>%\n",
        "  mutate(composicion_ep2 = case_when(presidente == \"EP\" & composicion == \"EP3\" ~ \"1\",\n",
        "  presidente == \"EP\" & composicion != \"EP3\" ~ \"0\",\n",
        "  TRUE ~ \"NA\"))\n",
        "\n",
        "df = df %>%\n",
        "  mutate(composicion_ep3 = case_when(presidente == \"EP\" & composicion == \"EP6\" ~ \"1\",\n",
        "  presidente == \"EP\" & composicion != \"EP6\" ~ \"0\",\n",
        "  TRUE ~ \"NA\"))\n",
        "\n",
        "df = df %>%\n",
        "  mutate(composicion_ep4 = case_when(presidente == \"EP\" & composicion == \"EP7\" ~ \"1\",\n",
        "  presidente == \"EP\" & composicion != \"EP7\" ~ \"0\",\n",
        "  TRUE ~ \"NA\"))\n",
        "\n",
        "df = df %>%\n",
        "  mutate(composicion_hr1 = case_when(presidente == \"HR\" & composicion == \"HR1\" ~ \"1\",\n",
        "  presidente == \"HR\" & composicion != \"HR1\" ~ \"0\",\n",
        "  TRUE ~ \"NA\"))\n",
        "\n",
        "df = df %>%\n",
        "  mutate(composicion_hr2 = case_when(presidente == \"HR\" & composicion == \"HR2\" ~ \"1\",\n",
        "  presidente == \"HR\" & composicion != \"HR2\" ~ \"0\",\n",
        "  TRUE ~ \"NA\"))\n",
        "\n",
        "df = df %>%\n",
        "  mutate(composicion_jn1 = case_when(presidente == \"JN\" & composicion == \"JN1\" ~ \"1\",\n",
        "  presidente == \"JN\" & composicion != \"JN1\" ~ \"0\",\n",
        "  TRUE ~ \"NA\"))\n",
        "\n",
        "df = df %>%\n",
        "  mutate(composicion_jn2 = case_when(presidente == \"JN\" & composicion == \"JN3\" ~ \"1\",\n",
        "  presidente == \"JN\" & composicion != \"JN3\" ~ \"0\",\n",
        "  TRUE ~ \"NA\"))\n",
        "\n",
        "df = df %>%\n",
        "  mutate(composicion_jn3 = case_when(presidente == \"JN\" & composicion == \"JN5\" ~ \"1\",\n",
        "  presidente == \"JN\" & composicion != \"JN5\" ~ \"0\",\n",
        "  TRUE ~ \"NA\"))\n",
        "\n",
        "df = df %>%\n",
        "  mutate(composicion_rl1 = case_when(presidente == \"RL\" & composicion == \"RL1\" ~ \"1\",\n",
        "  presidente == \"RL\" & composicion != \"RL1\" ~ \"0\",\n",
        "  TRUE ~ \"NA\"))\n",
        "\n",
        "df = df %>%\n",
        "  mutate(composicion_rl2 = case_when(presidente == \"RL\" & composicion == \"RL2\" ~ \"1\",\n",
        "  presidente == \"RL\" & composicion != \"RL2\" ~ \"0\",\n",
        "  TRUE ~ \"NA\"))\n",
        "\n",
        "df = df %>%\n",
        "  mutate(composicion_rl3 = case_when(presidente == \"RL\" & composicion == \"RL3\" ~ \"1\",\n",
        "  presidente == \"RL\" & composicion != \"RL3\" ~ \"0\",\n",
        "  TRUE ~ \"NA\"))\n",
        "\n",
        "df = df %>%\n",
        "  mutate(composicion_rl4 = case_when(presidente == \"RL\" & composicion == \"RL4\" ~ \"1\",\n",
        "  presidente == \"RL\" & composicion != \"RL4\" ~ \"0\",\n",
        "  TRUE ~ \"NA\"))\n",
        "\n",
        "df = df %>%\n",
        "  mutate(composicion_rl5 = case_when(presidente == \"RL\" & composicion == \"RL7\" ~ \"1\",\n",
        "  presidente == \"RL\" & composicion != \"RL7\" ~ \"0\",\n",
        "  TRUE ~ \"NA\"))\n",
        "\n",
        "df = df %>% mutate(composicion_rl6 = case_when(presidente == \"RL\" & composicion == \"RL7\" ~ \"1\",\n",
        "  presidente == \"RL\" & composicion != \"RL8\" ~ \"0\", TRUE ~ \"NA\"))\n",
        "\n",
        "df = df %>%\n",
        "  mutate(decision_procurador = case_when(tolower(decision_procurador) == \"competencia\" ~ \"competencia\",\n",
        "                           tolower(decision_procurador) == \"incompetencia\" ~ \"incompetencia\",\n",
        "                           TRUE ~ \"NA\"))\n",
        "\n",
        "# involucra recurso interjurisdiccional para el procurador\n",
        "df = df %>%\n",
        "  mutate(involucra_recurso_interjur_procurador_1 = case_when(tolower(involucra_recurso_interjur_procurador) == \"si\" ~ \"0\",\n",
        "                           tolower(involucra_recurso_interjur_procurador) == \"no\" ~ \"1\",\n",
        "                           tolower(involucra_recurso_interjur_procurador) == \"no dice\" ~ \"1\",\n",
        "                           TRUE ~ \"NA\"))\n",
        "df = df %>%\n",
        "  mutate(involucra_recurso_interjur_procurador_2 = case_when(tolower(involucra_recurso_interjur_procurador) == \"si\" ~ \"0\",\n",
        "                           tolower(involucra_recurso_interjur_procurador) == \"no\" ~ \"1\",\n",
        "                           tolower(involucra_recurso_interjur_procurador) == \"no dice\" ~ \"0\",\n",
        "                           TRUE ~ \"NA\"))\n",
        "\n",
        "df$remision_al_procurador <- factor(tolower(df$remision_al_procurador))"
      ]
    },
    {
      "cell_type": "markdown",
      "metadata": {
        "id": "TNxnQqTksKq0"
      },
      "source": [
        "## Modelos"
      ]
    },
    {
      "cell_type": "code",
      "execution_count": null,
      "metadata": {
        "id": "vOiojcZ1sMof"
      },
      "outputs": [],
      "source": [
        "#court decision\n",
        "df$decision_de_la_corte = as.factor(df$decision_de_la_corte)"
      ]
    },
    {
      "cell_type": "code",
      "execution_count": null,
      "metadata": {
        "id": "lWfZrGnJwDBA"
      },
      "outputs": [],
      "source": [
        "modelo1_vars <- c(\"año_de_presentacion\",\"tiempo_de_resolucion\",\"fecha_de_resolucion\",\n",
        " \"cita_de_fallos\",\"cantidad_de_actores\",\"actor_empresa\",\"actor_ente_nac\",\n",
        "  \"actor_ente_prov\",\"actor_mpfn\",\"actor_municipio\",\"actor_ong\",\"actor_estado_nac\",\n",
        "  \"actor_estado_prov\",\"actor_pers_fisica\",\"actor_pue_orig\",\"vecinos_de_otra_provincia_1\",\"vecinos_de_otra_provincia_2\",\n",
        "  \"cantidad_de_demandados\",\"demandado_caba\",\"demandado_empresa\",\"demandado_ente_nac\",\n",
        "  \"demandado_ente_prov\",\"demandado_estado_nac\",\"demandado_estado_prov\",\"demandado_municipio\",\n",
        "  \"demandado_actor_interjuris\",\"demandado_pers_fisica\",\"demandado_empresa_estatal\",\n",
        "  \"cantidad_de_provincias\",\"citacion_de_terceros_1\",\"citacion_de_terceros_2\",\"provincias_citadas_terceros_tribunal_2\",\n",
        "  \"tema\",\"posterga_decision\",\"involucra_recurso_interjur\",\n",
        "  \"prueba_daño_interjur_2\",\"dicta_cautelar_2\",\"audiencia_publica\",\"conformacion_mayoria\",\n",
        "  \"disidencia_argibay\",\"disidencia_highton\",\"disidencia_lorenzetti\",\n",
        "  \"voto_fayt\",\"voto_petracchi\",\"voto_highton\",\"voto_argibay\",\"voto_maqueda\",\n",
        "  \"voto_zaffaroni\",\"voto_rosenkrantz\",\n",
        "  'no_vota_argibay','no_vota_boggiano','no_vota_bossert',\n",
        "  'no_vota_fayt','no_vota_highton','no_vota_levene','no_vota_lopez','no_vota_lorenzetti',\n",
        "  'no_vota_maqueda','no_vota_moline','no_vota_nazareno','no_vota_petracchi','no_vota_rosatti',\n",
        "  'no_vota_rosenkrantz','no_vota_vazquez','no_vota_zaffaroni',\n",
        "  'composicion_cr1','composicion_emo1','composicion_ep1','composicion_ep2',\n",
        "  'composicion_ep3','composicion_ep4','composicion_hr1','composicion_hr2',\n",
        "  'composicion_jn1','composicion_jn2','composicion_jn3','composicion_rl1',\n",
        "  'composicion_rl2','composicion_rl3','composicion_rl4','composicion_rl5','composicion_rl6',\n",
        "  'involucra_recurso_interjur_procurador_1','involucra_recurso_interjur_procurador_2',\"remision_al_procurador\",\n",
        "  \"decision_procurador\",\"presidente\",\n",
        "  \"decision_de_la_corte\")\n",
        "\n",
        "df_modelo1 <- df[modelo1_vars]"
      ]
    },
    {
      "cell_type": "code",
      "execution_count": null,
      "metadata": {
        "id": "oXSwqVDbyHJX"
      },
      "outputs": [],
      "source": [
        "set.seed(123)\n",
        "training_sample = sample(c(TRUE, FALSE), nrow(df_modelo1), replace = T, prob = c(0.8,0.2))\n",
        "\n",
        "train = df_modelo1[training_sample, ]\n",
        "test = df_modelo1[!training_sample, ]"
      ]
    },
    {
      "cell_type": "markdown",
      "metadata": {
        "id": "KO3Ru8RTPLL8"
      },
      "source": [
        "### Random Forest"
      ]
    },
    {
      "cell_type": "code",
      "execution_count": null,
      "metadata": {
        "id": "qlxuuDtIwfMQ"
      },
      "outputs": [],
      "source": [
        "set.seed(7)\n",
        "bag_7_train = randomForest(decision_de_la_corte ~ ., data=train, ntree=500, mtry=sqrt(ncol(train)), importance = TRUE)\n",
        "bag_7_train"
      ]
    },
    {
      "cell_type": "code",
      "execution_count": null,
      "metadata": {
        "id": "87SWibO_w7rY"
      },
      "outputs": [],
      "source": [
        "seed <- 7\n",
        "metric <- 'Accuracy'\n",
        "\n",
        "control <- trainControl(method=\"repeatedcv\", number=5, repeats=3, search=\"grid\")\n",
        "set.seed(seed)\n",
        "tunegrid <- expand.grid(.mtry=c(1:20))\n",
        "rf_gridsearch <- train(decision_de_la_corte ~ ., data=train, method=\"rf\", metric=metric, tuneGrid=tunegrid, trControl=control)\n",
        "# print(rf_gridsearch)\n",
        "# plot(rf_gridsearch)"
      ]
    },
    {
      "cell_type": "code",
      "execution_count": null,
      "metadata": {
        "id": "zUMtja5KyKGH"
      },
      "outputs": [],
      "source": [
        "set.seed(7)\n",
        "bag_17_train = randomForest(decision_de_la_corte ~ ., data=train, ntree=500, mtry=20, importance = TRUE)\n",
        "bag_17_train"
      ]
    },
    {
      "cell_type": "code",
      "execution_count": null,
      "metadata": {
        "id": "F0JRBj_geTAX"
      },
      "outputs": [],
      "source": [
        "rfImp1 <- bag_17_train$importance\n",
        "vip(bag_17_train, color = 'red', fill='orange') +\n",
        "  ggtitle('Random Forest Model Variable Importance')"
      ]
    },
    {
      "cell_type": "code",
      "execution_count": null,
      "metadata": {
        "id": "RsKXhP9pemVk"
      },
      "outputs": [],
      "source": [
        "varImpPlot(bag_17_train, sort = TRUE, scale = FALSE)"
      ]
    },
    {
      "cell_type": "code",
      "execution_count": null,
      "metadata": {
        "id": "nzR4BfY3yYFf"
      },
      "outputs": [],
      "source": [
        "fit_test <- predict(bag_17_train, newdata = test, type='prob')"
      ]
    },
    {
      "cell_type": "code",
      "execution_count": null,
      "metadata": {
        "id": "Dh9-rD4LkiDr"
      },
      "outputs": [],
      "source": [
        "perf <- prediction(fit_test[,2],test$decision_de_la_corte) # reject\n",
        "\n",
        "auc = performance(perf, \"auc\")\n",
        "\n",
        "pred3 = performance(perf, \"tpr\",\"fpr\")\n",
        "\n",
        "plot(pred3,col=2,lwd=2)\n",
        "abline(a=0,b=1,lwd=2,lty=2,col=\"gray\")"
      ]
    },
    {
      "cell_type": "code",
      "execution_count": null,
      "metadata": {
        "id": "rPV6WX0znMfK"
      },
      "outputs": [],
      "source": [
        "cost_perf = performance(perf, \"cost\")\n",
        "\n"
      ]
    },
    {
      "cell_type": "code",
      "execution_count": null,
      "metadata": {
        "id": "NDcJBuDkncMA"
      },
      "outputs": [],
      "source": [
        "p_0 = perf@cutoffs[[1]][which.min(cost_perf@y.values[[1]])]\n",
        "\n",
        "def.pred = rep(\"Acepta\", length(fit_test[,2]))\n",
        "\n",
        "def.pred[fit_test[,2] > p_0]=\"Rechaza\"\n",
        "confmat=table(test$decision_de_la_corte,def.pred,dnn = c(\"Real\", \"Predicha\"))\n",
        "confmat"
      ]
    },
    {
      "cell_type": "code",
      "execution_count": null,
      "metadata": {
        "id": "mA3SpDlu8D2i"
      },
      "outputs": [],
      "source": [
        "df_test = df %>% filter(row_number() %in% as.numeric(rownames(test)))"
      ]
    },
    {
      "cell_type": "code",
      "execution_count": null,
      "metadata": {
        "id": "mvgU97T68HtH"
      },
      "outputs": [],
      "source": [
        "expedientes_erroneos <- cbind(df_test[c(\"expediente\",\"decision_de_la_corte\")],def.pred)\n",
        "expedientes_erroneos %>% filter(decision_de_la_corte != def.pred)"
      ]
    }
  ],
  "metadata": {
    "colab": {
      "collapsed_sections": [
        "uJogdrSqsQZQ"
      ],
      "provenance": []
    },
    "kernelspec": {
      "display_name": "R",
      "name": "ir"
    },
    "language_info": {
      "name": "R"
    }
  },
  "nbformat": 4,
  "nbformat_minor": 0
}